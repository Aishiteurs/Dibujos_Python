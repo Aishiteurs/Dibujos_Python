{
  "nbformat": 4,
  "nbformat_minor": 0,
  "metadata": {
    "colab": {
      "provenance": [],
      "authorship_tag": "ABX9TyPFiyTrtCz71vRlSTJBmNQw",
      "include_colab_link": true
    },
    "kernelspec": {
      "name": "python3",
      "display_name": "Python 3"
    },
    "language_info": {
      "name": "python"
    }
  },
  "cells": [
    {
      "cell_type": "markdown",
      "metadata": {
        "id": "view-in-github",
        "colab_type": "text"
      },
      "source": [
        "<a href=\"https://colab.research.google.com/github/GlezRuben/C-digos-de-Figures-con-Turtle/blob/main/Obtener_Vectores_Berry.ipynb\" target=\"_parent\"><img src=\"https://colab.research.google.com/assets/colab-badge.svg\" alt=\"Open In Colab\"/></a>"
      ]
    },
    {
      "cell_type": "code",
      "execution_count": null,
      "metadata": {
        "colab": {
          "base_uri": "https://localhost:8080/"
        },
        "id": "ufRrJK1382Zr",
        "outputId": "a496bbdd-2044-46a3-f874-bdf6cada7ce6"
      },
      "outputs": [
        {
          "output_type": "stream",
          "name": "stdout",
          "text": [
            "Mounted at /content/drive\n"
          ]
        }
      ],
      "source": [
        "from google.colab import drive\n",
        "drive.mount('/content/drive')"
      ]
    },
    {
      "cell_type": "code",
      "source": [
        "# Importar librerías:\n",
        "import numpy\n",
        "import pandas as pd\n",
        "import cv2\n",
        "from skimage.color import rgb2hsv \n",
        "import matplotlib.pyplot as plt\n",
        "import os\n",
        "import csv"
      ],
      "metadata": {
        "id": "RoUS_d3i-UkQ"
      },
      "execution_count": null,
      "outputs": []
    },
    {
      "cell_type": "code",
      "source": [
        "def Pixel_Values(path_folder):\n",
        "  \n",
        "  list_images = os.listdir(path_folder)\n",
        "  cont = 1\n",
        "\n",
        "  for image in list_images:\n",
        "    if image != \".DS_Store\":\n",
        "      path_image = os.path.join(path_folder, image)\n",
        "      img = cv2.imread(path_image)\n",
        "\n",
        "      if cont == 1:\n",
        "        Pixel_Total = img\n",
        "\n",
        "      elif cont == 2:\n",
        "        Pixel_Total = numpy.stack((Pixel_Total, img))\n",
        "\n",
        "      else:\n",
        "        concatenated_array = numpy.concatenate([Pixel_Total, img[numpy.newaxis,...]], axis=0)\n",
        "        Pixel_Total = numpy.reshape(concatenated_array, (cont, 256, 256, 3))\n",
        "\n",
        "      cont = cont + 1\n",
        "\n",
        "  return Pixel_Total"
      ],
      "metadata": {
        "id": "O641_kum_Sow"
      },
      "execution_count": null,
      "outputs": []
    },
    {
      "cell_type": "code",
      "source": [
        "dir_root = '/content/drive/MyDrive/Maestría/Experimentos Tesis/Pruebas_Berry/'\n",
        "\n",
        "path_data = dir_root\n",
        "#details = ['SUR-Subtype_Ia','train']\n",
        "\n",
        "Pixel_Total = Pixel_Values(path_data)\n",
        "\n",
        "numpy.save(\"Berry\" + \".npy\", Pixel_Total)\n",
        "!cp Berry.npy '/content/drive/MyDrive/Maestría/Experimentos Tesis/Pruebas_Berry/'"
      ],
      "metadata": {
        "id": "AOrzY6PT_Dm2"
      },
      "execution_count": null,
      "outputs": []
    },
    {
      "cell_type": "code",
      "source": [],
      "metadata": {
        "id": "74DeC3iuI1Jd"
      },
      "execution_count": null,
      "outputs": []
    }
  ]
}